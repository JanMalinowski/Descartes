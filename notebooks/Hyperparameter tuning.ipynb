{
 "cells": [
  {
   "cell_type": "markdown",
   "metadata": {},
   "source": [
    "# Finding optimal hyperparameters for the xgboost"
   ]
  },
  {
   "cell_type": "markdown",
   "metadata": {},
   "source": [
    "In order to find the optimal set of hyperparameters, I am going to use the RandomizedSearchCV. Hyperparameters found in this notebook, will later be used for training the model in the script. A more sophisticated approach would be to use Bayesian optimisation to find the best set of hyperparameters."
   ]
  },
  {
   "cell_type": "code",
   "execution_count": 424,
   "metadata": {},
   "outputs": [],
   "source": [
    "import xgboost as xgb\n",
    "import pandas as pd\n",
    "import joblib\n",
    "import numpy as np\n",
    "from sklearn.model_selection import RandomizedSearchCV\n",
    "from sklearn.model_selection import StratifiedKFold\n"
   ]
  },
  {
   "cell_type": "code",
   "execution_count": 425,
   "metadata": {},
   "outputs": [],
   "source": [
    "df = joblib.load(\"../auto-insurance-fall-2017/train_folds.pkl\")"
   ]
  },
  {
   "cell_type": "code",
   "execution_count": 426,
   "metadata": {},
   "outputs": [],
   "source": [
    "param_space = {\n",
    "        'eta': [0.05, 0.01, 0.1, 0.5, 0.9],\n",
    "        'max_depth': [5, 10, 12, 15, 20],\n",
    "        'learning_rate': [0.001, 0.005, 0.01, 0.05, 0.1],\n",
    "        'min_child_weight': [1, 5, 10],\n",
    "        'gamma': [0.5, 1, 1.5, 2, 5],\n",
    "        'subsample': [0.6, 0.8, 1.0],\n",
    "        'colsample_bytree': [0.6, 0.8, 1.0],\n",
    "        'max_depth': [3, 4, 5, 10, 12, 15, 20],\n",
    "        'n_estimators': [5, 10, 20, 30, 50, 75, 100, 150, 200, 400]\n",
    "        }"
   ]
  },
  {
   "cell_type": "code",
   "execution_count": 427,
   "metadata": {},
   "outputs": [],
   "source": [
    "bst = xgb.XGBClassifier(objective='binary:logistic', eval_metric='auc', nthread=1, use_label_encoder=False)"
   ]
  },
  {
   "cell_type": "code",
   "execution_count": 428,
   "metadata": {},
   "outputs": [],
   "source": [
    "skf = StratifiedKFold(n_splits=5, shuffle = True, random_state = 1001)\n",
    "\n",
    "random_search = RandomizedSearchCV(bst, param_distributions=param_space,\n",
    "                                   n_iter=5000, scoring='roc_auc', n_jobs=-1,\n",
    "                                   cv=skf, verbose=1,\n",
    "                                   random_state=1001 )"
   ]
  },
  {
   "cell_type": "code",
   "execution_count": 429,
   "metadata": {},
   "outputs": [],
   "source": [
    "features = [col for col in df.columns if col not in [\"target\", \"INDEX\", \"kfold\"]]"
   ]
  },
  {
   "cell_type": "code",
   "execution_count": 430,
   "metadata": {
    "scrolled": false
   },
   "outputs": [
    {
     "name": "stdout",
     "output_type": "stream",
     "text": [
      "Fitting 5 folds for each of 5000 candidates, totalling 25000 fits\n"
     ]
    },
    {
     "name": "stderr",
     "output_type": "stream",
     "text": [
      "[Parallel(n_jobs=-1)]: Using backend LokyBackend with 4 concurrent workers.\n",
      "[Parallel(n_jobs=-1)]: Done  42 tasks      | elapsed:   25.4s\n",
      "[Parallel(n_jobs=-1)]: Done 192 tasks      | elapsed:  2.9min\n",
      "[Parallel(n_jobs=-1)]: Done 442 tasks      | elapsed:  6.8min\n",
      "[Parallel(n_jobs=-1)]: Done 792 tasks      | elapsed: 11.5min\n",
      "[Parallel(n_jobs=-1)]: Done 1242 tasks      | elapsed: 17.1min\n",
      "[Parallel(n_jobs=-1)]: Done 1792 tasks      | elapsed: 23.3min\n",
      "[Parallel(n_jobs=-1)]: Done 2442 tasks      | elapsed: 33.8min\n",
      "[Parallel(n_jobs=-1)]: Done 3192 tasks      | elapsed: 43.5min\n",
      "[Parallel(n_jobs=-1)]: Done 4042 tasks      | elapsed: 54.5min\n",
      "[Parallel(n_jobs=-1)]: Done 4992 tasks      | elapsed: 68.2min\n",
      "[Parallel(n_jobs=-1)]: Done 6042 tasks      | elapsed: 79.9min\n",
      "/home/jan/anaconda3/lib/python3.8/site-packages/joblib/externals/loky/process_executor.py:688: UserWarning: A worker stopped while some jobs were given to the executor. This can be caused by a too short worker timeout or by a memory leak.\n",
      "  warnings.warn(\n",
      "[Parallel(n_jobs=-1)]: Done 7192 tasks      | elapsed: 91.0min\n",
      "[Parallel(n_jobs=-1)]: Done 8442 tasks      | elapsed: 103.3min\n",
      "[Parallel(n_jobs=-1)]: Done 9792 tasks      | elapsed: 116.6min\n",
      "[Parallel(n_jobs=-1)]: Done 11242 tasks      | elapsed: 130.7min\n",
      "[Parallel(n_jobs=-1)]: Done 12792 tasks      | elapsed: 145.8min\n",
      "[Parallel(n_jobs=-1)]: Done 14442 tasks      | elapsed: 161.7min\n",
      "[Parallel(n_jobs=-1)]: Done 16192 tasks      | elapsed: 179.8min\n",
      "[Parallel(n_jobs=-1)]: Done 18042 tasks      | elapsed: 197.0min\n",
      "[Parallel(n_jobs=-1)]: Done 19992 tasks      | elapsed: 219.2min\n",
      "[Parallel(n_jobs=-1)]: Done 22042 tasks      | elapsed: 238.0min\n",
      "[Parallel(n_jobs=-1)]: Done 24192 tasks      | elapsed: 261.1min\n",
      "[Parallel(n_jobs=-1)]: Done 25000 out of 25000 | elapsed: 269.2min finished\n"
     ]
    },
    {
     "data": {
      "text/plain": [
       "RandomizedSearchCV(cv=StratifiedKFold(n_splits=5, random_state=1001, shuffle=True),\n",
       "                   estimator=XGBClassifier(base_score=None, booster=None,\n",
       "                                           colsample_bylevel=None,\n",
       "                                           colsample_bynode=None,\n",
       "                                           colsample_bytree=None,\n",
       "                                           eval_metric='auc', gamma=None,\n",
       "                                           gpu_id=None, importance_type='gain',\n",
       "                                           interaction_constraints=None,\n",
       "                                           learning_rate=None,\n",
       "                                           max_delta_step=None, max_depth=None,\n",
       "                                           mi...\n",
       "                   n_iter=5000, n_jobs=-1,\n",
       "                   param_distributions={'colsample_bytree': [0.6, 0.8, 1.0],\n",
       "                                        'eta': [0.05, 0.01, 0.1, 0.5, 0.9],\n",
       "                                        'gamma': [0.5, 1, 1.5, 2, 5],\n",
       "                                        'learning_rate': [0.001, 0.005, 0.01,\n",
       "                                                          0.05, 0.1],\n",
       "                                        'max_depth': [3, 4, 5, 10, 12, 15, 20],\n",
       "                                        'min_child_weight': [1, 5, 10],\n",
       "                                        'n_estimators': [5, 10, 20, 30, 50, 75,\n",
       "                                                         100, 150, 200, 400],\n",
       "                                        'subsample': [0.6, 0.8, 1.0]},\n",
       "                   random_state=1001, scoring='roc_auc', verbose=1)"
      ]
     },
     "execution_count": 430,
     "metadata": {},
     "output_type": "execute_result"
    }
   ],
   "source": [
    "random_search.fit(df[cols], df[\"target\"])"
   ]
  },
  {
   "cell_type": "code",
   "execution_count": 431,
   "metadata": {},
   "outputs": [],
   "source": [
    "params=random_search.best_params_"
   ]
  },
  {
   "cell_type": "code",
   "execution_count": 433,
   "metadata": {
    "scrolled": true
   },
   "outputs": [
    {
     "data": {
      "text/plain": [
       "{'subsample': 0.8,\n",
       " 'n_estimators': 400,\n",
       " 'min_child_weight': 10,\n",
       " 'max_depth': 4,\n",
       " 'learning_rate': 0.05,\n",
       " 'gamma': 5,\n",
       " 'eta': 0.1,\n",
       " 'colsample_bytree': 0.6}"
      ]
     },
     "execution_count": 433,
     "metadata": {},
     "output_type": "execute_result"
    }
   ],
   "source": [
    "params"
   ]
  },
  {
   "cell_type": "code",
   "execution_count": null,
   "metadata": {},
   "outputs": [],
   "source": []
  }
 ],
 "metadata": {
  "kernelspec": {
   "display_name": "Python 3",
   "language": "python",
   "name": "python3"
  },
  "language_info": {
   "codemirror_mode": {
    "name": "ipython",
    "version": 3
   },
   "file_extension": ".py",
   "mimetype": "text/x-python",
   "name": "python",
   "nbconvert_exporter": "python",
   "pygments_lexer": "ipython3",
   "version": "3.8.3"
  }
 },
 "nbformat": 4,
 "nbformat_minor": 4
}
